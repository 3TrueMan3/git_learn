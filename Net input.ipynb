{
 "cells": [
  {
   "cell_type": "code",
   "execution_count": 1,
   "metadata": {},
   "outputs": [],
   "source": [
    "import numpy as np\n",
    "import pandas as pd\n",
    "import matplotlib.pyplot as plt"
   ]
  },
  {
   "cell_type": "code",
   "execution_count": 2,
   "metadata": {},
   "outputs": [],
   "source": [
    "np.random.seed(42)\n",
    "\n",
    "x = np.random.gumbel(50, 10, 175)\n",
    "y = x * 70000\n",
    "noise = np.random.normal(0, 800000, 175)#+ np.random.uniform(-500000, 500000, 875)\n",
    "y = y + noise"
   ]
  },
  {
   "cell_type": "code",
   "execution_count": 3,
   "metadata": {},
   "outputs": [],
   "source": [
    "def net_input(W, X, b):\n",
    "    assert len(W) == len(X), \"len(W) != len(X)\"\n",
    "    assert len(X) == len(W), \"len(X) != len(W)\"\n",
    "    result = 0\n",
    "    for i in range(len(X)):\n",
    "        result += W[i] * X[i]\n",
    "    result += b\n",
    "    return result"
   ]
  },
  {
   "cell_type": "code",
   "execution_count": 4,
   "metadata": {},
   "outputs": [
    {
     "data": {
      "text/plain": [
       "33"
      ]
     },
     "execution_count": 4,
     "metadata": {},
     "output_type": "execute_result"
    }
   ],
   "source": [
    "W = [1, 2, 3]\n",
    "b = 1\n",
    "X = [4, 5, 6]\n",
    "Y = net_input(W, X, b)\n",
    "Y"
   ]
  },
  {
   "cell_type": "code",
   "execution_count": 5,
   "metadata": {},
   "outputs": [],
   "source": [
    "def cost_function(Y_hat, Y):\n",
    "    return np.sum(np.square(Y_hat - Y)) / Y.shape[0]"
   ]
  },
  {
   "cell_type": "code",
   "execution_count": 6,
   "metadata": {},
   "outputs": [
    {
     "data": {
      "text/plain": [
       "4.666666666666667"
      ]
     },
     "execution_count": 6,
     "metadata": {},
     "output_type": "execute_result"
    }
   ],
   "source": [
    "Y_hat = np.array([0, 0, 0])\n",
    "Y = np.array([1, 2, 3])\n",
    "cost_function(Y_hat, Y)"
   ]
  },
  {
   "cell_type": "code",
   "execution_count": 8,
   "metadata": {},
   "outputs": [],
   "source": [
    "def cost_function_derivative_w(Y_hat, Y, X):\n",
    "    return 2 * np.sum((Y_hat - Y) * X) / Y.shape[0]\n",
    "\n",
    "def cost_function_derivative_b(Y_hat, Y):\n",
    "    return 2 * np.sum(Y_hat - Y) / Y.shape[0]"
   ]
  },
  {
   "cell_type": "code",
   "execution_count": 9,
   "metadata": {},
   "outputs": [
    {
     "name": "stdout",
     "output_type": "stream",
     "text": [
      "[76875.41169811]\n",
      "[-36904.23776691]\n"
     ]
    }
   ],
   "source": [
    "W = np.array([0])\n",
    "b = np.array([0])\n",
    "LEARNING_RATE = 10e-7\n",
    "NUM_ITERATIONS = 500\n",
    "for i in range(0, NUM_ITERATIONS):\n",
    "    #print('{} step'.format(i))\n",
    "    y_hat = np.array([net_input(W, [x_single], b) for x_single in x])\n",
    "    #print('cost funcrion: ', cost_function(y_hat, y))\n",
    "    W = W - LEARNING_RATE * cost_function_derivative_w(y_hat, y, x)\n",
    "    b = b - LEARNING_RATE * cost_function_derivative_b(y_hat, y)\n",
    "\n",
    "print(W)\n",
    "print(b)"
   ]
  },
  {
   "cell_type": "code",
   "execution_count": 10,
   "metadata": {},
   "outputs": [
    {
     "data": {
      "text/plain": [
       "<function matplotlib.pyplot.show(*args, **kw)>"
      ]
     },
     "execution_count": 10,
     "metadata": {},
     "output_type": "execute_result"
    },
    {
     "data": {
      "image/png": "[encoded data removed]",
      "text/plain": [
       "<Figure size 432x288 with 1 Axes>"
      ]
     },
     "metadata": {
      "needs_background": "light"
     },
     "output_type": "display_data"
    }
   ],
   "source": [
    "plt.plot(x, y, 'o')\n",
    "plt.plot(np.arange(0, 100), np.arange(0, 100) * W + b, 'r--')\n",
    "plt.show"
   ]
  },
  {
   "cell_type": "code",
   "execution_count": null,
   "metadata": {},
   "outputs": [],
   "source": []
  }
 ],
 "metadata": {
  "kernelspec": {
   "display_name": "Python 3",
   "language": "python",
   "name": "python3"
  },
  "language_info": {
   "codemirror_mode": {
    "name": "ipython",
    "version": 3
   },
   "file_extension": ".py",
   "mimetype": "text/x-python",
   "name": "python",
   "nbconvert_exporter": "python",
   "pygments_lexer": "ipython3",
   "version": "3.7.2"
  }
 },
 "nbformat": 4,
 "nbformat_minor": 2
}
